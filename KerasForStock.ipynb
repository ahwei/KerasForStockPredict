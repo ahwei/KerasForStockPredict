{
 "cells": [
  {
   "cell_type": "code",
   "execution_count": 1,
   "metadata": {
    "collapsed": false
   },
   "outputs": [],
   "source": [
    "import pandas\n",
    "import numpy as np\n",
    "import matplotlib.pyplot as plt\n",
    "import io\n",
    "import requests"
   ]
  },
  {
   "cell_type": "code",
   "execution_count": 2,
   "metadata": {
    "collapsed": true
   },
   "outputs": [],
   "source": [
    "def OutPutData(url,input_data):\n",
    "    s=requests.get(url).content\n",
    "    df_temp = pandas.read_csv(io.StringIO(s.decode('utf-8')))\n",
    "\n",
    "    df_temp = df_temp.sort('Date') \n",
    "\n",
    "    df_temp.to_csv('temp.csv', encoding='utf-8')\n",
    "    # 載入資料\n",
    "    #input_data = '3231-2010-2017'\n",
    "\n",
    "    df = pandas.read_csv('temp.csv')\n",
    "\n",
    "\n",
    "    #df['V'] =df[\"Volume\"]/df[\"Volume\"].rolling(window = 20, center = False).mean()\n",
    "    df['V'] =df[\"Volume\"]/1000000\n",
    "    df['9dmax']=df[\"High\"].rolling(window = 9, center = False).max()\n",
    "    df['9dmin']=df[\"Low\"].rolling(window = 9, center = False).min()\n",
    "    df['RSV']=np.nan\n",
    "    df['K'] = np.nan\n",
    "    df['D'] = np.nan\n",
    "\n",
    "    df['H20']=df[\"High\"].rolling(window = 20, center = False).max()\n",
    "    df['L20']=df[\"Low\"].rolling(window = 20, center = False).min()\n",
    "    df['H2K'] = np.nan\n",
    "    df['L2K'] =np.nan\n",
    "    df['20MA']=df[\"Close\"].rolling(window = 20, center = False).mean()\n",
    "    df['UB'] = np.nan\n",
    "    df['LB'] =np.nan\n",
    "    df['PB'] =np.nan\n",
    "    df['P_1D'] =np.nan\n",
    "\n",
    "    count = len(df.index)\n",
    "    df.loc[7,'K'] = 50\n",
    "    df.loc[7,'D'] = 50\n",
    "    for i in range(0,count,1):\n",
    "        #KD值計算\n",
    "        if(i>7):\n",
    "            df.loc[i,'RSV'] =   (df['Close'][i]-  df['9dmin'][i]) / (df['9dmax'][i] - df['9dmin'][i] ) *100\n",
    "            df.loc[i,'K'] =   df['K'][i-1]*2/3 + df['RSV'][i]*1/3       \n",
    "            df.loc[i,'D'] =   df['D'][i-1]*2/3 + df['K'][i]*1/3\n",
    "\n",
    "\n",
    "        #布林通道計算\n",
    "        #H-L 最高價-最低價\n",
    "        theHmL = df['High'][i] - df['Low'][i]\n",
    "        #(H+L)/2 (最高價+最低價) / 2\n",
    "        theHpL = (df['High'][i] + df['Low'][i])/2\n",
    "        #K=L/M 上兩個相除\n",
    "        theK = theHmL/theHpL    \n",
    "        #1+2K 1+兩倍的K值\n",
    "        thep2K = 1+2*theK    \n",
    "        #1-2K 1-兩倍的K值\n",
    "        them2K = 1-2*theK\n",
    "        #Hx(1+2K) 最高價*(1+兩倍的K值)\n",
    "        df.loc[i,'H2K'] =thep2K * df['High'][i]\n",
    "        #Lx(1-2K) 最低價*(1-兩倍的K值)\n",
    "        df.loc[i,'L2K'] =them2K * df['Low'][i]  \n",
    "\n",
    "        if(count != i+1):\n",
    "            df.loc[i,'P_1D'] =df['Close'][i+1]\n",
    "\n",
    "    df['UB'] = df[\"H2K\"].rolling(window = 20, center = False).mean()\n",
    "    df['LB'] = df[\"L2K\"].rolling(window = 20, center = False).mean()\n",
    "    df['PB']= (df['Close']-df['LB'])/(df['UB']-df['LB'])\n",
    "    \n",
    "\n",
    "    df_output = df.ix[19:count-2,['Date','High','Low','V','K','D','PB','Close','P_1D']]\n",
    "    df_output.to_csv(input_data+'_output.csv', encoding='utf-8')"
   ]
  },
  {
   "cell_type": "code",
   "execution_count": 7,
   "metadata": {
    "collapsed": false
   },
   "outputs": [
    {
     "name": "stderr",
     "output_type": "stream",
     "text": [
      "C:\\Users\\ahwei\\Anaconda2\\lib\\site-packages\\ipykernel\\__main__.py:5: FutureWarning: sort(columns=....) is deprecated, use sort_values(by=.....)\n"
     ]
    }
   ],
   "source": [
    "# 載入資料\n",
    "Stock_id = '2454'\n",
    "url_tt = 'http://real-chart.finance.yahoo.com/table.csv?s='+Stock_id+'.TW&d=2&e=31&f=2017&g=d&a=0&b=1&c=2012&ignore=.csv'\n",
    "url_p = 'http://real-chart.finance.yahoo.com/table.csv?s='+Stock_id+'.TW&d=4&e=31&f=2017&g=d&a=0&b=1&c=2012&ignore=.csv'\n",
    "\n",
    "OutPutData(url_tt,Stock_id)\n",
    "OutPutData(url_p,Stock_id+'_p')"
   ]
  },
  {
   "cell_type": "markdown",
   "metadata": {},
   "source": [
    "# 深度學習"
   ]
  },
  {
   "cell_type": "code",
   "execution_count": 4,
   "metadata": {
    "collapsed": false
   },
   "outputs": [
    {
     "name": "stderr",
     "output_type": "stream",
     "text": [
      "Using Theano backend.\n",
      "WARNING (theano.sandbox.cuda): The cuda backend is deprecated and will be removed in the next release (v0.10).  Please switch to the gpuarray backend. You can get more information about how to switch at this URL:\n",
      " https://github.com/Theano/Theano/wiki/Converting-to-the-new-gpu-back-end%28gpuarray%29\n",
      "\n",
      "Using gpu device 0: GeForce GTX 650 Ti BOOST (CNMeM is enabled with initial size: 80.0% of memory, cuDNN not available)\n"
     ]
    }
   ],
   "source": [
    "import numpy\n",
    "import pandas\n",
    "import math\n",
    "from keras.models import Sequential\n",
    "from keras.preprocessing import sequence\n",
    "from keras.layers import Dense,LSTM,Activation,Dropout\n",
    "from keras.wrappers.scikit_learn import KerasRegressor\n",
    "from sklearn.model_selection import cross_val_score\n",
    "from keras.layers.embeddings import Embedding\n",
    "from sklearn.model_selection import KFold\n",
    "from sklearn.preprocessing import StandardScaler\n",
    "from sklearn.pipeline import Pipeline\n",
    "import matplotlib.pyplot as plt\n",
    "from sklearn.metrics import r2_score\n",
    "from sklearn.metrics import mean_squared_error\n",
    "from sklearn.preprocessing import MinMaxScaler"
   ]
  },
  {
   "cell_type": "code",
   "execution_count": 8,
   "metadata": {
    "collapsed": true
   },
   "outputs": [],
   "source": [
    "def learning_model():\n",
    "    model = Sequential()\n",
    "    model.add(Dense(1500,input_dim = 6))\n",
    "    model.add(Activation('relu'))\n",
    "    model.add(Dropout(1))    \n",
    "    model.add(Dense(500))    \n",
    "    model.add(Activation('relu'))\n",
    "    model.add(Dropout(1))\n",
    "    model.add(Dense(1))\n",
    "    model.add(Activation('linear'))\n",
    "    \n",
    "    # Compile model\n",
    "    model.compile(loss='mean_squared_error', optimizer='adam')\n",
    "    return model"
   ]
  },
  {
   "cell_type": "code",
   "execution_count": 9,
   "metadata": {
    "collapsed": false
   },
   "outputs": [
    {
     "data": {
      "image/png": "[encoded data removed]",
      "text/plain": [
       "<matplotlib.figure.Figure at 0x9d7a550>"
      ]
     },
     "metadata": {},
     "output_type": "display_data"
    }
   ],
   "source": [
    "# load dataset\n",
    "dataframe = pandas.read_csv(Stock_id+\"_output.csv\")\n",
    "dataset = dataframe.values\n",
    "\n",
    "plt.plot(dataset[:,9])\n",
    "plt.show()\n",
    "\n",
    "dataset = dataset[:,2:10]\n",
    "dataset = dataset.astype('float32')\n",
    "\n",
    "# normalize the dataset\n",
    "scaler = MinMaxScaler(feature_range=(0, 1))\n",
    "dataset = scaler.fit_transform(dataset)\n",
    "trainX,trainY=dataset[:,0:6],dataset[:,7]\n",
    "\n"
   ]
  },
  {
   "cell_type": "code",
   "execution_count": 10,
   "metadata": {
    "collapsed": false
   },
   "outputs": [
    {
     "name": "stdout",
     "output_type": "stream",
     "text": [
      "Epoch 1/10\n",
      "2s - loss: 0.0035\n",
      "Epoch 2/10\n",
      "2s - loss: 0.0013\n",
      "Epoch 3/10\n",
      "2s - loss: 0.0011\n",
      "Epoch 4/10\n",
      "2s - loss: 0.0010\n",
      "Epoch 5/10\n",
      "2s - loss: 0.0011\n",
      "Epoch 6/10\n",
      "2s - loss: 8.3391e-04\n",
      "Epoch 7/10\n",
      "2s - loss: 8.2467e-04\n",
      "Epoch 8/10\n",
      "2s - loss: 7.9773e-04\n",
      "Epoch 9/10\n",
      "2s - loss: 7.4667e-04\n",
      "Epoch 10/10\n",
      "2s - loss: 7.8616e-04\n"
     ]
    },
    {
     "data": {
      "image/png": "[encoded data removed]",
      "text/plain": [
       "<matplotlib.figure.Figure at 0x63378d68>"
      ]
     },
     "metadata": {},
     "output_type": "display_data"
    },
    {
     "name": "stdout",
     "output_type": "stream",
     "text": [
      "Train Score: 0.02 RMSE\n"
     ]
    }
   ],
   "source": [
    "#訓練開始\n",
    "model =  learning_model()\n",
    "model.fit(trainX, trainY, nb_epoch=10,batch_size=1, verbose=2,shuffle=True)\n",
    "\n",
    "Predict_train = model.predict(trainX)\n",
    "#Predict_test  = model.predict(testX)\n",
    "\n",
    "\n",
    "#1day train\n",
    "plt.title('1day train')\n",
    "plt.plot(trainY)\n",
    "plt.plot(Predict_train)\n",
    "plt.show()\n",
    "\n",
    "\n",
    "import math\n",
    "from sklearn.metrics import mean_squared_error\n",
    "#RMSE\n",
    "trainScore = math.sqrt(mean_squared_error(trainY,Predict_train))\n",
    "print('Train Score: %.2f RMSE' % (trainScore))"
   ]
  },
  {
   "cell_type": "code",
   "execution_count": 11,
   "metadata": {
    "collapsed": false
   },
   "outputs": [],
   "source": [
    "# load dataset\n",
    "dataframe = pandas.read_csv(Stock_id+\"_p_output.csv\")\n",
    "dataset = dataframe.values\n",
    "dataset = dataset[:,2:10]\n",
    "dataset = dataset.astype('float32')\n",
    "\n",
    "# normalize the dataset\n",
    "scaler = MinMaxScaler(feature_range=(0, 1))\n",
    "dataset = scaler.fit_transform(dataset)"
   ]
  },
  {
   "cell_type": "code",
   "execution_count": 1,
   "metadata": {
    "collapsed": false
   },
   "outputs": [
    {
     "ename": "NameError",
     "evalue": "name 'dataframe' is not defined",
     "output_type": "error",
     "traceback": [
      "\u001b[0;31m---------------------------------------------------------------------------\u001b[0m",
      "\u001b[0;31mNameError\u001b[0m                                 Traceback (most recent call last)",
      "\u001b[0;32m<ipython-input-1-9a564c7f3b86>\u001b[0m in \u001b[0;36m<module>\u001b[0;34m()\u001b[0m\n\u001b[0;32m----> 1\u001b[0;31m \u001b[0mcal_money\u001b[0m \u001b[1;33m=\u001b[0m \u001b[0mdataframe\u001b[0m\u001b[1;33m.\u001b[0m\u001b[0mvalues\u001b[0m\u001b[1;33m\u001b[0m\u001b[0m\n\u001b[0m\u001b[1;32m      2\u001b[0m \u001b[0mpre_list\u001b[0m \u001b[1;33m=\u001b[0m \u001b[1;33m[\u001b[0m\u001b[1;33m]\u001b[0m\u001b[1;33m\u001b[0m\u001b[0m\n\u001b[1;32m      3\u001b[0m \u001b[1;31m#當預測會上漲時購買，直到上漲在買出否則繼續放著。\u001b[0m\u001b[1;33m\u001b[0m\u001b[1;33m\u001b[0m\u001b[0m\n\u001b[1;32m      4\u001b[0m \u001b[1;31m#會上漲就買10張\u001b[0m\u001b[1;33m\u001b[0m\u001b[1;33m\u001b[0m\u001b[0m\n\u001b[1;32m      5\u001b[0m \u001b[0mmoney\u001b[0m \u001b[1;33m=\u001b[0m \u001b[1;36m0\u001b[0m\u001b[1;33m\u001b[0m\u001b[0m\n",
      "\u001b[0;31mNameError\u001b[0m: name 'dataframe' is not defined"
     ]
    }
   ],
   "source": [
    "cal_money = dataframe.values\n",
    "pre_list = []\n",
    "#當預測會上漲時購買，直到上漲在買出否則繼續放著。\n",
    "#會上漲就買10張\n",
    "money = 0\n",
    "cost=0\n",
    "ROI = 0\n",
    "for x in xrange(-30, 0,1):\n",
    "    if(x==0):\n",
    "        Predict_test  = model.predict(dataset[:,0:6])\n",
    "    else:\n",
    "        Predict_test  = model.predict(dataset[:x,0:6])\n",
    "    #pre_list.append(Predict_test[-1]-Predict_test[-2])\n",
    "    pre = Predict_test[-1]-Predict_test[-2]\n",
    "    pre_2 =( Predict_test[-1]-Predict_test[-2])/Predict_test[-2]*100\n",
    "    \n",
    "   \n",
    "\n",
    "    if(money == 0 and  pre>0):\n",
    "        money =cal_money[x,8]*10000\n",
    "        cost=cost+money        \n",
    "    elif(cal_money[x,8]*10000 >money and money  != 0 ):\n",
    "        ROI = ROI + cal_money[x,8]*10000\n",
    "        money =0 \n",
    "    \n",
    "    \n",
    "        \n",
    "   \n",
    "    \n",
    "    \n",
    "    print  cal_money[x,1], cal_money[x,8], cal_money[x,9],pre,ROI,cost,money\n",
    "# pre_list\n",
    "print 'ROI'\n",
    "if(money>0):\n",
    "     print (ROI-cost+(cal_money[-1,9])*10000)/cost*100\n",
    "else:\n",
    "    print (ROI-cost)/cost*100"
   ]
  },
  {
   "cell_type": "code",
   "execution_count": 21,
   "metadata": {
    "collapsed": false
   },
   "outputs": [
    {
     "data": {
      "text/plain": [
       "0.004418828049951969"
      ]
     },
     "execution_count": 21,
     "metadata": {},
     "output_type": "execute_result"
    }
   ],
   "source": [
    "(5228000.0-5205000.0 ) /5205000.0 "
   ]
  },
  {
   "cell_type": "code",
   "execution_count": 12,
   "metadata": {
    "collapsed": false
   },
   "outputs": [
    {
     "data": {
      "text/plain": [
       "198.0"
      ]
     },
     "execution_count": 12,
     "metadata": {},
     "output_type": "execute_result"
    }
   ],
   "source": [
    "cal_money[-2,9]"
   ]
  },
  {
   "cell_type": "code",
   "execution_count": 143,
   "metadata": {
    "collapsed": false
   },
   "outputs": [
    {
     "data": {
      "text/plain": [
       "array([1388L, '2017-05-03', 101.5, 100.0, 42.603, 80.7379919128,\n",
       "       73.8999290359, 1.0262420327700001, 100.5, 100.5], dtype=object)"
      ]
     },
     "execution_count": 143,
     "metadata": {},
     "output_type": "execute_result"
    }
   ],
   "source": [
    "cal_money = dataframe.values\n",
    "cal_money[-1]"
   ]
  }
 ],
 "metadata": {
  "kernelspec": {
   "display_name": "Python 2",
   "language": "python",
   "name": "python2"
  },
  "language_info": {
   "codemirror_mode": {
    "name": "ipython",
    "version": 2
   },
   "file_extension": ".py",
   "mimetype": "text/x-python",
   "name": "python",
   "nbconvert_exporter": "python",
   "pygments_lexer": "ipython2",
   "version": "2.7.13"
  }
 },
 "nbformat": 4,
 "nbformat_minor": 2
}
